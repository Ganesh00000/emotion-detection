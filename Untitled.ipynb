{
 "cells": [
  {
   "cell_type": "code",
   "execution_count": 1,
   "id": "21f23c4d",
   "metadata": {},
   "outputs": [],
   "source": [
    "import cv2\n",
    "import numpy as np"
   ]
  },
  {
   "cell_type": "code",
   "execution_count": null,
   "id": "8ebe0eb3",
   "metadata": {},
   "outputs": [],
   "source": [
    "cap=cv2.VideoCapture(0)\n",
    "while True:\n",
    "    check,img=cap.read()\n",
    "    cv2.imshow(\"normal image\",img)\n",
    "    hsv=cv2.cvtColor(img,cv2.COLOR_BGR2GRAY)\n",
    "    cv2.imshow(\"hsv\",hsv)\n",
    "    mask=cv2.inRange(hsv,(15,20,50),(50,255,255))\n",
    "    \n",
    "    cv2.imshow(\"masked image\",mask)\n",
    "    if cv2.waitKey(1) & 0xFF==ord(\"f\"):\n",
    "        break\n",
    "cap.release()\n",
    "cv2.destroyAllWindows()\n",
    "    "
   ]
  }
 ],
 "metadata": {
  "kernelspec": {
   "display_name": "Python 3",
   "language": "python",
   "name": "python3"
  },
  "language_info": {
   "codemirror_mode": {
    "name": "ipython",
    "version": 3
   },
   "file_extension": ".py",
   "mimetype": "text/x-python",
   "name": "python",
   "nbconvert_exporter": "python",
   "pygments_lexer": "ipython3",
   "version": "3.9.4"
  }
 },
 "nbformat": 4,
 "nbformat_minor": 5
}
